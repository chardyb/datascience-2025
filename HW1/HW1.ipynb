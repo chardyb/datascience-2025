{
 "cells": [
  {
   "cell_type": "markdown",
   "metadata": {
    "id": "MH6d4w6M9Ven"
   },
   "source": [
    "# Introduction to Data Science 2025 – Homework 1\n",
    "*COMP 5360 / MATH 4100, University of Utah, http://datasciencecourse.net/*\n",
    "\n",
    "Due: Friday, January 17, 11:59pm.\n",
    "\n",
    "This homework is designed to practice the skills we learned through Lecture 3: working with loops, conditionals, functions, and the built-in Python data structures. Please review the lectures to aid you.\n",
    "\n",
    "Please avoid the use of online aids (e.g., generative AI) to solve the problems for you. You may always search online to understand how a function works or look up what an error message means. The idea is to **practice basic Python skills** so you are **prepared to debug problems** when online tools have difficulty later in the course. This is like doing addition and subtraction examples by hand when learning *before* learning how to do more advanced problems with calculations.\n",
    "\n",
    "**Note:** You are allowed to use built-in Python functions such as `len` and `range` etc. However, do **NOT** use functions that will solve the exercise entirely such as `reverse` to reverse a list or `sum` to sum a list.\n",
    "\n",
    "**Note:** You may **NOT** use higher-level library functions but should implement everything using functions, loops, and conditionals."
   ]
  },
  {
   "cell_type": "markdown",
   "metadata": {
    "id": "Rl_mJZqA9Vep"
   },
   "source": [
    "## Your Data\n",
    "Fill out the following information: \n",
    "\n",
    "*First Name:*   \n",
    "*Last Name:*   \n",
    "*E-mail:*   \n",
    "*UID:*  \n"
   ]
  },
  {
   "cell_type": "markdown",
   "metadata": {},
   "source": [
    "### >>> For each problem below, add at least one of your own example test cases <<<\n",
    "\n",
    "Note, we may also include test cases beyond the samples within this notebook."
   ]
  },
  {
   "cell_type": "markdown",
   "metadata": {
    "id": "Ji-nFi-99Ver"
   },
   "source": [
    "## Problem 1: Count Odds\n",
    "\n",
    "Write a function that returns how many odd numbers there are in a list. You can assume the list will contain only numbers."
   ]
  },
  {
   "cell_type": "code",
   "execution_count": null,
   "metadata": {
    "id": "wr1jIaP59Ves"
   },
   "outputs": [],
   "source": [
    "# your code"
   ]
  },
  {
   "cell_type": "code",
   "execution_count": null,
   "metadata": {
    "id": "HVIPPmuP9Vet"
   },
   "outputs": [],
   "source": [
    "# sample test case\n",
    "print(count_odds([-15, -112, 14, -29, 17, 360, 86, 128, -12, 0, 23]))\n",
    "print(count_odds([]))"
   ]
  },
  {
   "cell_type": "code",
   "execution_count": null,
   "metadata": {},
   "outputs": [],
   "source": [
    "# your test case goes here"
   ]
  },
  {
   "cell_type": "markdown",
   "metadata": {
    "id": "ohrWTVIt9Veu"
   },
   "source": [
    "## Problem 2: Reversing a List Two Ways\n",
    "\n",
    "Write two functions `reverse_elem` and `reverse_lc` that take a list as a parameter and reverses the order of the elements.\n",
    "\n",
    "`reverse_elem` should use element-wise processing in a loop\n",
    "\n",
    "`reverse_lc` should use a list comprehension"
   ]
  },
  {
   "cell_type": "code",
   "execution_count": null,
   "metadata": {
    "id": "zr-oNO5H9Vev"
   },
   "outputs": [],
   "source": [
    "# your code"
   ]
  },
  {
   "cell_type": "code",
   "execution_count": null,
   "metadata": {
    "id": "2Bps9lz99Vev"
   },
   "outputs": [],
   "source": [
    "# call your function with a couple of different lists and print the results here\n",
    "print(reverse_elem([3, 1, 4, 1, 5, 9]))\n",
    "print(reverse_elem([\"Base\", \"Foil\", \"Holographic\", \"Polychrome\", \"Negative\"]))\n",
    "print(reverse_elem([170, 171, 174, \"Korra\", \"Asami\", \"Bolin\", \"Mako\"]))"
   ]
  },
  {
   "cell_type": "code",
   "execution_count": null,
   "metadata": {
    "id": "OYRLesZg9Vew"
   },
   "outputs": [],
   "source": [
    "print(reverse_lc([3, 1, 4, 1, 5, 9]))\n",
    "print(reverse_lc([\"Base\", \"Foil\", \"Holographic\", \"Polychrome\", \"Negative\"]))\n",
    "print(reverse_lc([170, 171, 174, \"Korra\", \"Asami\", \"Bolin\", \"Mako\"]))"
   ]
  },
  {
   "cell_type": "code",
   "execution_count": null,
   "metadata": {},
   "outputs": [],
   "source": [
    "# Your test case goes here"
   ]
  },
  {
   "cell_type": "markdown",
   "metadata": {
    "id": "6Jcug3z09Vex"
   },
   "source": [
    "## Problem 3: Combining Two Lists\n",
    "\n",
    "Write a function that combines two lists by alternatingly taking elements from the **back** of the first list and the **front** of the second list, e.g. [a,b,c], [1,2,3] → [c,1,b,2,a,3].\n",
    "In case of two lists of different length, the result should be [a,b,c,d],[1,2]=>[d,1,c,2,b,a], i.e., the elements of the longer list are appended at the end."
   ]
  },
  {
   "cell_type": "code",
   "execution_count": null,
   "metadata": {
    "id": "F5NHxrtB9Vey"
   },
   "outputs": [],
   "source": [
    "# your code"
   ]
  },
  {
   "cell_type": "code",
   "execution_count": null,
   "metadata": {
    "id": "XTcxZt1S9Vey"
   },
   "outputs": [],
   "source": [
    "# call your function with a couple of different lists and print the results here\n",
    "print(combine_list(['w', 'x', 'y', 'z'], [1, 1, 2, 3, 5, 8]))\n",
    "print()\n",
    "print(combine_list([2, 7, 1, 8, 2, 8], ['delta', 'echo', 'foxtrot', 'golf']))"
   ]
  },
  {
   "cell_type": "code",
   "execution_count": null,
   "metadata": {},
   "outputs": [],
   "source": [
    "# your test case goes here"
   ]
  },
  {
   "cell_type": "markdown",
   "metadata": {
    "id": "yxKmpVQd9Vez"
   },
   "source": [
    "## Problem 4: Numbers to Digits in Two Ways\n",
    "\n",
    "Write two functions that take a number and return a list of its digits in order, e.g., 789456 → [7, 8, 9, 4, 5, 6].\n",
    "\n",
    "You need to implement two versions of the function: `num_to_digits_elem`, a version with element-wise processing, and `num_to_digits_lc`, a version using the list comprehension way."
   ]
  },
  {
   "cell_type": "code",
   "execution_count": null,
   "metadata": {
    "id": "NG72kC6t9Ve1"
   },
   "outputs": [],
   "source": [
    "# your code"
   ]
  },
  {
   "cell_type": "code",
   "execution_count": null,
   "metadata": {
    "id": "3pjI4Gut9Ve2"
   },
   "outputs": [],
   "source": [
    "# call your function with a couple of different numbers and print the results here\n",
    "print(num_to_digits_elem(47013))\n",
    "print(num_to_digits_elem(60175649612663396839953))\n",
    "print()\n",
    "print(num_to_digits_lc(47013))\n",
    "print(num_to_digits_lc(60175649612663396839953))"
   ]
  },
  {
   "cell_type": "code",
   "execution_count": null,
   "metadata": {},
   "outputs": [],
   "source": [
    "# your test case goes here"
   ]
  },
  {
   "cell_type": "markdown",
   "metadata": {
    "id": "5n7BxHMQ9Ve3"
   },
   "source": [
    "## Problem 5: Sums in Four Ways\n",
    "\n",
    "Write four functions that sums the numbers in a list. The first function should use a for-loop, the second a while-loop and the third and fourth should use recursion.\n",
    "\n",
    "The two versions of the function using recursion are: a version copying the list when passing the argument, and another version not copying the list when passing the argument.\n",
    "\n",
    "*Hint 1: Passing a slice of the list as an argument will copy the list.*\n",
    "\n",
    "*Hint 2: A function may need more than one argument, but you should allow the function to be called with only one argument given.*"
   ]
  },
  {
   "cell_type": "code",
   "execution_count": null,
   "metadata": {
    "id": "-PysUUrU9Ve4"
   },
   "outputs": [],
   "source": [
    "# your code"
   ]
  },
  {
   "cell_type": "code",
   "execution_count": null,
   "metadata": {
    "id": "79pC87cC9Ve5"
   },
   "outputs": [],
   "source": [
    "# call your function with a couple of different lists and print the results here\n",
    "list1 = range(1,9)\n",
    "list2 = [1, 6, 2, -2, -2, 5, 9, 3, 7, -4, 9]\n",
    "list3 = [1, 8, 2, 0, 3, 9, 1, 8, -2, 3]\n",
    "list4 = [3, 6, 9, -3, 2, 7, 6, 1, -9]\n",
    "\n",
    "print(sum_for(list1), sum_while(list1), sum_recursive(list1), sum_recursive_no_copy(list1))\n",
    "print()\n",
    "print(sum_for(list2), sum_while(list2), sum_recursive(list2), sum_recursive_no_copy(list2))\n",
    "print()\n",
    "print(sum_for(list3), sum_while(list3), sum_recursive(list3), sum_recursive_no_copy(list3))\n",
    "print()\n",
    "print(sum_for(list4), sum_while(list4), sum_recursive(list4), sum_recursive_no_copy(list4))"
   ]
  },
  {
   "cell_type": "code",
   "execution_count": null,
   "metadata": {},
   "outputs": [],
   "source": [
    "# your test case goes here"
   ]
  },
  {
   "cell_type": "markdown",
   "metadata": {
    "id": "_5KdFNEG9Ve5"
   },
   "source": [
    "## Problem 6: Filtering\n",
    "\n",
    "Write a function `filter_alpha` that filters out elements from a list of strings that are alphabetically before a given test string. Preserve capitalization and their sort order.\n",
    "\n",
    "For example, aftering filtering out strings before \"Kilo\" from the list \\['Pulse', 'Chop', 'Puree', 'Stir', 'Liquify', 'Crush'\\] you would return \\['Pulse', 'Puree', 'Stir', 'Liquify'\\]."
   ]
  },
  {
   "cell_type": "code",
   "execution_count": null,
   "metadata": {
    "id": "RR6AVB7h9Ve6"
   },
   "outputs": [],
   "source": [
    "# your code"
   ]
  },
  {
   "cell_type": "code",
   "execution_count": null,
   "metadata": {
    "id": "lMvJaf9f9Ve7"
   },
   "outputs": [],
   "source": [
    "# call your function with a couple of different n and print the results here\n",
    "print(filter_alpha(['Pulse', 'Chop', 'Puree', 'Stir', 'Liquify', 'Crush'], 'Kilo'))\n",
    "print(filter_alpha(['Dasher', 'Dancer', 'Prancer', 'Vixen', 'Comet', 'Cupid', 'Donner', 'Blitzen'], 'Rudolph'))\n",
    "print(filter_alpha(['bell', 'ghost', 'Hatch', 'cayenne', 'serrano', 'Anaheim', 'Bonney'], 'Fresno'))"
   ]
  },
  {
   "cell_type": "code",
   "execution_count": null,
   "metadata": {},
   "outputs": [],
   "source": [
    "# your test case goes here"
   ]
  },
  {
   "cell_type": "markdown",
   "metadata": {
    "id": "EGYlBRFG9Ve7"
   },
   "source": [
    "## Problem 7: Pell Numbers\n",
    "\n",
    "Write a function that takes a number `n` and an empty array that writes the first `n` [Pell numbers](https://en.wikipedia.org/wiki/Pell_number) into the empty array. Print the array. \n",
    "\n",
    "The Pell numbers can be generated via a relation where $Pell(x) = 2 * Pell(x-1) + Pell(x-2)$ with $Pell(1) = 1$ and $Pell(0) = 0$. Note that this sequence starts with $Pell(1)$ and $Pell(0)$ is just used in the relation. \n",
    "\n",
    "The sequence begins `1`, `(2*1 + 0) = 2`, `(2*2 + 1) = 5`, `(2*5 + 2) = 12`...\n",
    "\n",
    "Thus, if you call `pell(4)`, it should thus produce `[1, 2, 5, 12]`."
   ]
  },
  {
   "cell_type": "code",
   "execution_count": null,
   "metadata": {
    "id": "KLhYmYjw9Ve8"
   },
   "outputs": [],
   "source": [
    "# your code  "
   ]
  },
  {
   "cell_type": "code",
   "execution_count": null,
   "metadata": {
    "id": "D0Ben5UQ9Ve9"
   },
   "outputs": [],
   "source": [
    "# call your function with a couple of different n and print the results here\n",
    "sequence = []\n",
    "pell(17, sequence)\n",
    "print(sequence)  "
   ]
  },
  {
   "cell_type": "markdown",
   "metadata": {
    "id": "6ycInDlR9Ve9"
   },
   "source": [
    "# Problem 8: Rolling Mean of Piano Practice\n",
    "\n",
    "Write a function `rolling_mean` that takes a list of minutes practicing piano every day, and computes a moving average over every consecutive `k` days. Some days will be missing measurements and will instead have the value `None`.\n",
    "\n",
    "**Caveats:**\n",
    "* The days missing measurements should be included in your `k` day window, but should not affect the average.\n",
    "  * e.g.`rolling_mean([87,None,92],3)` should return `[89.5]`\n",
    "* If all days in a window are missing measurements then the average should also have the value `None`.\n",
    "  * e.g. `rolling_mean([None, None, 53], 2)` should return `[None, 53]`\n",
    "* Only compute averages as long as you have enough data points to fill the window.\n",
    "  * e.g. `rolling_mean([100,25,30,45,50,60,75,80],7)` should return a list of length two.\n",
    "  * e.g. `rolling_mean([120,240,30,45,55],2)` should return a list of length 4.\n",
    "  * e.g. `rolling_mean([100,200,35], 4)` should return an empty list.\n",
    "\n",
    "You can use these as example lists, but make sure that your algorithm works on other lists/windows."
   ]
  },
  {
   "cell_type": "code",
   "execution_count": null,
   "metadata": {
    "id": "qyQv0Ms19Ve-"
   },
   "outputs": [],
   "source": [
    "# your code "
   ]
  },
  {
   "cell_type": "markdown",
   "metadata": {
    "id": "-If3GsvL9Ve_"
   },
   "source": [
    "### From provided examples:"
   ]
  },
  {
   "cell_type": "code",
   "execution_count": null,
   "metadata": {
    "id": "Aq9L7jCm9Ve_"
   },
   "outputs": [],
   "source": [
    "print('Computed Averages: ' + str(rolling_mean([87,None,92],3)), 'Expected: [89.5]')\n",
    "print('Computed Averages: ' + str(rolling_mean([None, None, 53], 2)), 'Expected: [None, 53.0]')\n",
    "print('Length of List: ' + str(len(rolling_mean([100,25,30,45,50,60,75,80],7))), 'Expected Length: 2')\n",
    "print('Length of List: ' + str(len(rolling_mean([120,240,30,45,55],2))), 'Expected Length: 4')\n",
    "print('Length of List: ' + str(len(rolling_mean([100,200,35],4))), 'Expected Length: Empty')"
   ]
  },
  {
   "cell_type": "code",
   "execution_count": null,
   "metadata": {},
   "outputs": [],
   "source": [
    "# your test case goes here"
   ]
  },
  {
   "cell_type": "markdown",
   "metadata": {
    "id": "SN5hbWM59Ve_"
   },
   "source": [
    "### Other Examples:"
   ]
  },
  {
   "cell_type": "code",
   "execution_count": null,
   "metadata": {
    "id": "QUlq4Qxa9VfA"
   },
   "outputs": [],
   "source": [
    "student_1 = range(17)"
   ]
  },
  {
   "cell_type": "code",
   "execution_count": null,
   "metadata": {
    "id": "iNMtJydP9VfA"
   },
   "outputs": [],
   "source": [
    "student_2 = [75,83,None,95,92,None]"
   ]
  },
  {
   "cell_type": "code",
   "execution_count": null,
   "metadata": {
    "id": "cJdpAIz49VfB"
   },
   "outputs": [],
   "source": [
    "student_3 = [77,None,None,None,68,60,70,None,92]"
   ]
  },
  {
   "cell_type": "code",
   "execution_count": null,
   "metadata": {
    "id": "TQekdAqV9VfB"
   },
   "outputs": [],
   "source": [
    "student_4 = [81,72,93]"
   ]
  },
  {
   "cell_type": "code",
   "execution_count": null,
   "metadata": {
    "id": "9y0XuLyh9VfC"
   },
   "outputs": [],
   "source": [
    "student_5 = [None, None, None, 62]"
   ]
  },
  {
   "cell_type": "code",
   "execution_count": null,
   "metadata": {
    "id": "ai2zsY7X9VfD"
   },
   "outputs": [],
   "source": [
    "student_6 = []"
   ]
  },
  {
   "cell_type": "code",
   "execution_count": null,
   "metadata": {
    "id": "0i-LsPMk9VfE"
   },
   "outputs": [],
   "source": [
    "print(rolling_mean(student_1, 8))"
   ]
  },
  {
   "cell_type": "code",
   "execution_count": null,
   "metadata": {
    "id": "ulr2mV3z9VfE"
   },
   "outputs": [],
   "source": [
    "print(rolling_mean(student_2, 2))\n",
    "print(rolling_mean(student_2, 3))"
   ]
  },
  {
   "cell_type": "code",
   "execution_count": null,
   "metadata": {
    "id": "R1plsoR39VfE"
   },
   "outputs": [],
   "source": [
    "print(rolling_mean(student_3, 2))\n",
    "print(rolling_mean(student_3, 3))\n",
    "print(rolling_mean(student_3, 4))"
   ]
  },
  {
   "cell_type": "code",
   "execution_count": null,
   "metadata": {
    "id": "mmipCeK69VfF",
    "scrolled": true
   },
   "outputs": [],
   "source": [
    "print(rolling_mean(student_4, 1))\n",
    "print(rolling_mean(student_4, 2))\n",
    "print(rolling_mean(student_4, 3))\n",
    "print(rolling_mean(student_4, 4))"
   ]
  },
  {
   "cell_type": "code",
   "execution_count": null,
   "metadata": {
    "id": "VdKFZJ249VfF"
   },
   "outputs": [],
   "source": [
    "print(rolling_mean(student_5, 1))\n",
    "print(rolling_mean(student_5, 2))\n",
    "print(rolling_mean(student_5, 3))\n",
    "print(rolling_mean(student_5, 4))"
   ]
  },
  {
   "cell_type": "code",
   "execution_count": null,
   "metadata": {
    "id": "xnSCyB4W9VfG",
    "scrolled": true
   },
   "outputs": [],
   "source": [
    "print(rolling_mean(student_6, 1))\n",
    "print(rolling_mean(student_6, 7))"
   ]
  },
  {
   "cell_type": "markdown",
   "metadata": {},
   "source": [
    "# Problem 9: Reflecting\n",
    "\n",
    "Create a markdown cell below. Succinctly describe what you referenced to help you do the assignment and what the biggest challenges were."
   ]
  },
  {
   "cell_type": "code",
   "execution_count": null,
   "metadata": {},
   "outputs": [],
   "source": []
  }
 ],
 "metadata": {
  "anaconda-cloud": {},
  "colab": {
   "provenance": []
  },
  "kernelspec": {
   "display_name": "Python 3 (ipykernel)",
   "language": "python",
   "name": "python3"
  },
  "language_info": {
   "codemirror_mode": {
    "name": "ipython",
    "version": 3
   },
   "file_extension": ".py",
   "mimetype": "text/x-python",
   "name": "python",
   "nbconvert_exporter": "python",
   "pygments_lexer": "ipython3",
   "version": "3.13.1"
  }
 },
 "nbformat": 4,
 "nbformat_minor": 4
}
